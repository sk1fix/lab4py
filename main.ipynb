{
 "cells": [
  {
   "cell_type": "code",
   "execution_count": 15,
   "metadata": {},
   "outputs": [],
   "source": [
    "import pandas as pd\n",
    "import matplotlib.pyplot as pt\n",
    "from pandas import DataFrame\n",
    "from datetime import date"
   ]
  },
  {
   "cell_type": "code",
   "execution_count": 16,
   "metadata": {},
   "outputs": [],
   "source": [
    "def read_csv() -> DataFrame:\n",
    "    df = pd.read_csv('data.csv', header=None)\n",
    "    df.columns = ['Date', 'Course']\n",
    "    df['Date'] = pd.to_datetime(df['Date'], format='%Y-%m-%d')\n",
    "    df = df.dropna()\n",
    "    df_mean = df[\"Course\"].mean()\n",
    "    df_median = df[\"Course\"].median()\n",
    "    df[\"Mean\"] = df.apply(lambda x: (abs(x[\"Course\"] - df_mean)), axis=1)\n",
    "    df[\"Median\"] = df.apply(lambda x: (abs(x[\"Course\"] - df_median)), axis=1)\n",
    "    df = df.sort_values(by=\"Date\", ascending=True)\n",
    "    return df"
   ]
  },
  {
   "cell_type": "code",
   "execution_count": 21,
   "metadata": {},
   "outputs": [
    {
     "name": "stdout",
     "output_type": "stream",
     "text": [
      "          Date   Course       Mean   Median\n",
      "306 2022-11-12  60.2179  23.301656  27.4278\n",
      "305 2022-11-15  60.3982  23.121356  27.2475\n",
      "304 2022-11-16  60.3116  23.207956  27.3341\n",
      "303 2022-11-17  60.3484  23.171156  27.2973\n",
      "302 2022-11-18  60.3894  23.130156  27.2563\n",
      "..         ...      ...        ...      ...\n",
      "4   2024-02-06  91.2434   7.723844   3.5977\n",
      "3   2024-02-07  90.6842   7.164644   3.0385\n",
      "2   2024-02-08  91.1514   7.631844   3.5057\n",
      "1   2024-02-09  91.2561   7.736544   3.6104\n",
      "0   2024-02-10  90.8901   7.370544   3.2444\n",
      "\n",
      "[307 rows x 4 columns]\n"
     ]
    }
   ],
   "source": [
    "print(read_csv())\n",
    "df = read_csv()"
   ]
  },
  {
   "cell_type": "code",
   "execution_count": 22,
   "metadata": {},
   "outputs": [],
   "source": [
    "def find_median_value(df: DataFrame, value: float) -> DataFrame:\n",
    "    return df.query('Mean >= @value')"
   ]
  },
  {
   "cell_type": "code",
   "execution_count": 28,
   "metadata": {},
   "outputs": [
    {
     "name": "stdout",
     "output_type": "stream",
     "text": [
      "          Date   Course       Mean   Median\n",
      "306 2022-11-12  60.2179  23.301656  27.4278\n",
      "305 2022-11-15  60.3982  23.121356  27.2475\n",
      "304 2022-11-16  60.3116  23.207956  27.3341\n",
      "303 2022-11-17  60.3484  23.171156  27.2973\n",
      "302 2022-11-18  60.3894  23.130156  27.2563\n",
      "..         ...      ...        ...      ...\n",
      "74  2023-10-20  97.3074  13.787844   9.6617\n",
      "73  2023-10-21  95.9053  12.385744   8.2596\n",
      "72  2023-10-24  94.7081  11.188544   7.0624\n",
      "71  2023-10-25  93.5224  10.002844   5.8767\n",
      "69  2023-10-27  93.5616  10.042044   5.9159\n",
      "\n",
      "[120 rows x 4 columns]\n"
     ]
    }
   ],
   "source": [
    "print(find_median_value(df,10))"
   ]
  },
  {
   "cell_type": "code",
   "execution_count": 29,
   "metadata": {},
   "outputs": [],
   "source": [
    "def find_delta_time_value(df: DataFrame, first: date, second: date) -> DataFrame:\n",
    "    return df.query('Date >= @first and Date<=@second')"
   ]
  },
  {
   "cell_type": "code",
   "execution_count": 30,
   "metadata": {},
   "outputs": [
    {
     "name": "stdout",
     "output_type": "stream",
     "text": [
      "          Date   Course       Mean   Median\n",
      "305 2022-11-15  60.3982  23.121356  27.2475\n",
      "304 2022-11-16  60.3116  23.207956  27.3341\n",
      "303 2022-11-17  60.3484  23.171156  27.2973\n",
      "302 2022-11-18  60.3894  23.130156  27.2563\n",
      "301 2022-11-19  60.3741  23.145456  27.2716\n",
      "..         ...      ...        ...      ...\n",
      "61  2023-11-09  92.1973   8.677744   4.5516\n",
      "60  2023-11-10  91.9266   8.407044   4.2809\n",
      "59  2023-11-11  92.0535   8.533944   4.4078\n",
      "58  2023-11-14  92.1185   8.598944   4.4728\n",
      "57  2023-11-15  91.2570   7.737444   3.6113\n",
      "\n",
      "[249 rows x 4 columns]\n"
     ]
    }
   ],
   "source": [
    "print(find_delta_time_value(df, \"2022-11-15\", \"2023-11-15\"))"
   ]
  },
  {
   "cell_type": "code",
   "execution_count": 31,
   "metadata": {},
   "outputs": [],
   "source": [
    "def sort_month(df: pd.DataFrame) -> pd.Series:\n",
    "    return df.groupby(df.Date.dt.month)[\"Course\"].mean()"
   ]
  },
  {
   "cell_type": "code",
   "execution_count": 32,
   "metadata": {},
   "outputs": [
    {
     "name": "stdout",
     "output_type": "stream",
     "text": [
      "Date\n",
      "1     78.778131\n",
      "2     78.302885\n",
      "3     76.103586\n",
      "4     80.995543\n",
      "5     79.212595\n",
      "6     83.319333\n",
      "7     90.474048\n",
      "8     95.285348\n",
      "9     96.622259\n",
      "10    97.122281\n",
      "11    78.979397\n",
      "12    78.038284\n",
      "Name: Course, dtype: float64\n"
     ]
    }
   ],
   "source": [
    "print(sort_month(df))"
   ]
  },
  {
   "cell_type": "code",
   "execution_count": 26,
   "metadata": {},
   "outputs": [],
   "source": [
    "def show_value_graph(df: pd.DataFrame) -> None:\n",
    "    fig = pt.figure(figsize=(19, 5))\n",
    "    pt.ylabel(\"Course\")\n",
    "    pt.xlabel(\"date\")\n",
    "    pt.title('Курс долара(американские горки в конце)')\n",
    "    pt.plot(df[\"Date\"], df[\"Course\"], color='blue',\n",
    "             linestyle='-', linewidth=1)\n",
    "    pt.show()"
   ]
  },
  {
   "cell_type": "code",
   "execution_count": null,
   "metadata": {},
   "outputs": [],
   "source": []
  }
 ],
 "metadata": {
  "kernelspec": {
   "display_name": "Python 3",
   "language": "python",
   "name": "python3"
  },
  "language_info": {
   "codemirror_mode": {
    "name": "ipython",
    "version": 3
   },
   "file_extension": ".py",
   "mimetype": "text/x-python",
   "name": "python",
   "nbconvert_exporter": "python",
   "pygments_lexer": "ipython3",
   "version": "3.11.7"
  }
 },
 "nbformat": 4,
 "nbformat_minor": 2
}
