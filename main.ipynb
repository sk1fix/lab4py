{
 "cells": [
  {
   "cell_type": "code",
   "execution_count": 16,
   "metadata": {},
   "outputs": [],
   "source": [
    "import pandas as pd\n",
    "import matplotlib.pyplot as pt\n",
    "from pandas import DataFrame\n",
    "from datetime import date"
   ]
  },
  {
   "cell_type": "code",
   "execution_count": 20,
   "metadata": {},
   "outputs": [],
   "source": [
    "def read_csv() -> DataFrame:\n",
    "    df = pd.read_csv('data.csv', header=None)\n",
    "    df.columns = ['Date', 'Course']\n",
    "    df['Date'] = pd.to_datetime(df['Date'], format='%Y-%m-%d')\n",
    "    df = df.dropna()\n",
    "    df_mean = df[\"Value\"].mean()\n",
    "    df_median = df[\"Value\"].median()\n",
    "    df[\"Mean\"] = df.apply(lambda x: (abs(x[\"Value\"] - df_mean)), axis=1)\n",
    "    df[\"Median\"] = df.apply(lambda x: (abs(x[\"Value\"] - df_median)), axis=1)\n",
    "    df = df.sort_values(by=\"Date\", ascending=True)\n",
    "    return df"
   ]
  },
  {
   "cell_type": "code",
   "execution_count": 21,
   "metadata": {},
   "outputs": [],
   "source": [
    "def find_median_value(df: DataFrame, value: float) -> DataFrame:\n",
    "    return df.query('Mean >= @value')"
   ]
  },
  {
   "cell_type": "code",
   "execution_count": 22,
   "metadata": {},
   "outputs": [],
   "source": [
    "def find_delta_time_value(df: DataFrame, first: date, second: date) -> DataFrame:\n",
    "    return df.query('Date >= @first and Date<=@second')"
   ]
  },
  {
   "cell_type": "code",
   "execution_count": 25,
   "metadata": {},
   "outputs": [],
   "source": [
    "def sort_month(df: pd.DataFrame) -> pd.Series:\n",
    "    return df.groupby(df.Date.dt.month)[\"Value\"].mean()"
   ]
  },
  {
   "cell_type": "code",
   "execution_count": null,
   "metadata": {},
   "outputs": [],
   "source": []
  }
 ],
 "metadata": {
  "kernelspec": {
   "display_name": "Python 3",
   "language": "python",
   "name": "python3"
  },
  "language_info": {
   "codemirror_mode": {
    "name": "ipython",
    "version": 3
   },
   "file_extension": ".py",
   "mimetype": "text/x-python",
   "name": "python",
   "nbconvert_exporter": "python",
   "pygments_lexer": "ipython3",
   "version": "3.11.7"
  }
 },
 "nbformat": 4,
 "nbformat_minor": 2
}
